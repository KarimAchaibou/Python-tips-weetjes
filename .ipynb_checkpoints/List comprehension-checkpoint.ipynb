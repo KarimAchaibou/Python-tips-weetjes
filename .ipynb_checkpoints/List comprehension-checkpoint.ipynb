{
 "cells": [
  {
   "cell_type": "markdown",
   "metadata": {},
   "source": [
    "1. Basic syntax"
   ]
  },
  {
   "cell_type": "raw",
   "metadata": {},
   "source": [
    "#[expression for item in interable]\n",
    "    expression kan ook gelijk zijn aan het item\n",
    "        voorbeeld van expression x*x er van uitgaan dat het item gelijk is aan x"
   ]
  },
  {
   "cell_type": "markdown",
   "metadata": {},
   "source": [
    "2. Basic Creating a List"
   ]
  },
  {
   "cell_type": "code",
   "execution_count": 35,
   "metadata": {},
   "outputs": [
    {
     "data": {
      "text/plain": [
       "['BIRD', 'SNAKE', 'DOG', 'TURTLE', 'CAT', 'HAMSTER']"
      ]
     },
     "execution_count": 35,
     "metadata": {},
     "output_type": "execute_result"
    }
   ],
   "source": [
    "pets = ('bird','snake','dog','turtle','cat','hamster')\n",
    "upper_case_pets = [animals.upper() for animals in pets ]\n",
    "upper_case_pets"
   ]
  },
  {
   "cell_type": "markdown",
   "metadata": {},
   "source": [
    "3. Conditional Statement for Filtering"
   ]
  },
  {
   "cell_type": "code",
   "execution_count": 36,
   "metadata": {},
   "outputs": [
    {
     "data": {
      "text/plain": [
       "[9, 169, 529]"
      ]
     },
     "execution_count": 36,
     "metadata": {},
     "output_type": "execute_result"
    }
   ],
   "source": [
    "primes = [2,3,5,7,11,13,17,19,23,29]\n",
    "squared_primes = [x*x for x in primes if x%10==3]  # x%10 == 3 gehele deling met 10 en rest gelijk is aan 3 of 13%10==3 --> True \n",
    "squared_primes"
   ]
  },
  {
   "cell_type": "code",
   "execution_count": 37,
   "metadata": {},
   "outputs": [
    {
     "data": {
      "text/plain": [
       "['Dog', 'Turtle', 'Cat', 'Hamster']"
      ]
     },
     "execution_count": 37,
     "metadata": {},
     "output_type": "execute_result"
    }
   ],
   "source": [
    "#2de voorbeeld met een functie als conditional statement\n",
    "def hasFourlegs(pet):\n",
    "    return pet in ('dog','turtle','cat','hamster') # returns True als pet in lijst zit\n",
    "\n",
    "pets = ('bird','snake','dog','turtle','cat','hamster')\n",
    "four_leg_pets = [pet.capitalize() for pet in pets if hasFourlegs(pet)]\n",
    "four_leg_pets"
   ]
  },
  {
   "cell_type": "markdown",
   "metadata": {},
   "source": [
    "4. Conditional Assignment"
   ]
  },
  {
   "cell_type": "markdown",
   "metadata": {},
   "source": [
    "    Soms willen we items niet uitfilteren van de originele lijst maar willen we een conditie evalueren om te bepalen welke expressie gebruikt zal worden\n",
    "    #[expression0 if some_condition else expression1 for item in interable]\n",
    "         of\n",
    "    #[(expression0 if some_condition else expression1) for item in interable]"
   ]
  },
  {
   "cell_type": "code",
   "execution_count": 38,
   "metadata": {},
   "outputs": [
    {
     "data": {
      "text/plain": [
       "[7, 9, 10, 4, 3, 2, 10]"
      ]
     },
     "execution_count": 38,
     "metadata": {},
     "output_type": "execute_result"
    }
   ],
   "source": [
    "max_value = 10\n",
    "numbers = (7,9,11,4,3,2,12)\n",
    "ceiling_numbers = [number if number <= max_value else max_value for number in numbers]\n",
    "ceiling_numbers"
   ]
  },
  {
   "cell_type": "markdown",
   "metadata": {},
   "source": [
    "5. Replace map() functie door List comprehension"
   ]
  },
  {
   "cell_type": "markdown",
   "metadata": {},
   "source": [
    "In some situations, you may have seen people use map() to create a list. Specifically, the map() function has the following syntax together with an example of its basic usage.\n",
    "\n",
    "One thing to note is that the map() function returns an iterable object, and thus we can use the list() function to generate a list from this iterable."
   ]
  },
  {
   "cell_type": "code",
   "execution_count": 41,
   "metadata": {},
   "outputs": [
    {
     "data": {
      "text/plain": [
       "['BIRD', 'SNAKE', 'DOG', 'TURTLE', 'CAT', 'HAMSTER']"
      ]
     },
     "execution_count": 41,
     "metadata": {},
     "output_type": "execute_result"
    }
   ],
   "source": [
    "# map() returns an iterator object\n",
    "# map(function, iterable)\n",
    "pets = ('bird', 'snake', 'dog', 'turtle', 'cat', 'hamster')\n",
    "uppercased_pets = list(map(str.upper, pets))\n",
    "uppercased_pets"
   ]
  },
  {
   "cell_type": "code",
   "execution_count": 42,
   "metadata": {},
   "outputs": [
    {
     "data": {
      "text/plain": [
       "['BIRD', 'SNAKE', 'DOG', 'TURTLE', 'CAT', 'HAMSTER']"
      ]
     },
     "execution_count": 42,
     "metadata": {},
     "output_type": "execute_result"
    }
   ],
   "source": [
    "uppercased_pets = [pet.upper() for pet in pets]\n",
    "uppercased_pets"
   ]
  },
  {
   "cell_type": "markdown",
   "metadata": {},
   "source": [
    "6. Nested List Comprehensions"
   ]
  },
  {
   "cell_type": "markdown",
   "metadata": {},
   "source": [
    "Suppose that we have a tuple in the code snippet below, and we want to create a new list of items that are squares of all numbers in the tuple.\n",
    "\n",
    "In this case, we can use the nested list comprehension, the syntax of which is also shown below."
   ]
  },
  {
   "cell_type": "code",
   "execution_count": 48,
   "metadata": {},
   "outputs": [
    {
     "data": {
      "text/plain": [
       "[1, 16, 49, 64, 4, 9, 25]"
      ]
     },
     "execution_count": 48,
     "metadata": {},
     "output_type": "execute_result"
    }
   ],
   "source": [
    "#basic syntax of the nested list comprehensions\n",
    "#[expression for sublist in outer_list for item in sublist]\n",
    "# expanded form\n",
    "\n",
    "# for sublist in outer_list:\n",
    "#     for item in sublist:\n",
    "#         expression\n",
    "        \n",
    "nested_numbers = ((1, 4, 7, 8), (2, 3, 5))\n",
    "squares = [x*x for numbers in nested_numbers for x in numbers]\n",
    "squares"
   ]
  },
  {
   "cell_type": "markdown",
   "metadata": {},
   "source": [
    "7. Use Walrus Operator"
   ]
  },
  {
   "cell_type": "code",
   "execution_count": 87,
   "metadata": {},
   "outputs": [
    {
     "data": {
      "text/plain": [
       "['t',\n",
       " 'h',\n",
       " 'i',\n",
       " 's',\n",
       " ' ',\n",
       " 'i',\n",
       " 's',\n",
       " ' ',\n",
       " 't',\n",
       " 'o',\n",
       " ' ',\n",
       " 'p',\n",
       " 'r',\n",
       " 'o',\n",
       " 'd',\n",
       " 'u',\n",
       " 'c',\n",
       " 'e',\n",
       " ' ',\n",
       " 'a',\n",
       " ' ',\n",
       " 'l',\n",
       " 'i',\n",
       " 's',\n",
       " 't',\n",
       " ' ',\n",
       " 'o',\n",
       " 'f',\n",
       " ' ',\n",
       " 'l',\n",
       " 'e',\n",
       " 't',\n",
       " 't',\n",
       " 'e',\n",
       " 'r',\n",
       " 's']"
      ]
     },
     "execution_count": 87,
     "metadata": {},
     "output_type": "execute_result"
    }
   ],
   "source": [
    "letters = list('this is to produce a list of letters')\n",
    "letters"
   ]
  },
  {
   "cell_type": "markdown",
   "metadata": {},
   "source": [
    "One of the new features in Python 3.8 is the introduction of the walrus operator (:=), which is used in assignment \n",
    "expression.\n",
    "\n",
    "Suppose that we want to draw ten times from a list of letters, and the list that we’re creating will only include \n",
    "vowels from these drawings. Here’s how we can do it using the walrus operator in the list comprehension.\n",
    "\n",
    "Specifically, in the example below, we evaluate whether a random letter drawn from the letters is a vowel, and if it is, \n",
    "it’ll be assigned to the letter to which the list comprehension’s expression can have access."
   ]
  },
  {
   "cell_type": "code",
   "execution_count": null,
   "metadata": {},
   "outputs": [],
   "source": [
    "goede uitleg walrus operator: https://www.geeksforgeeks.org/walrus-operator-in-python-3-8/"
   ]
  },
  {
   "cell_type": "code",
   "execution_count": 69,
   "metadata": {},
   "outputs": [
    {
     "data": {
      "text/plain": [
       "['I', 'I', 'O', 'O', 'I', 'E', 'I']"
      ]
     },
     "execution_count": 69,
     "metadata": {},
     "output_type": "execute_result"
    }
   ],
   "source": [
    "import random\n",
    "vowels = [letter.upper() for _ in range(0, 10) if (letter := random.choice(letters)) in list('aeoui')]\n",
    "vowels\n",
    "\n",
    "# de underscore (_) in bovenstaande list comprehension is een temp variabele die niet verder gebruikt wordt daarom dat de\n",
    "# underscore gebruikt wordt. Je kan bv de underscore veranderen door x of een andere variabele"
   ]
  },
  {
   "cell_type": "code",
   "execution_count": 114,
   "metadata": {},
   "outputs": [
    {
     "data": {
      "text/plain": [
       "'o'"
      ]
     },
     "execution_count": 114,
     "metadata": {},
     "output_type": "execute_result"
    }
   ],
   "source": [
    "random.choice(letters)"
   ]
  },
  {
   "cell_type": "code",
   "execution_count": 108,
   "metadata": {},
   "outputs": [
    {
     "data": {
      "text/plain": [
       "True"
      ]
     },
     "execution_count": 108,
     "metadata": {},
     "output_type": "execute_result"
    }
   ],
   "source": [
    " random.choice(letters)in list('aeoui')"
   ]
  },
  {
   "cell_type": "markdown",
   "metadata": {},
   "source": [
    "8. Set Comprehension"
   ]
  },
  {
   "cell_type": "markdown",
   "metadata": {},
   "source": [
    "Although the list comprehension is known to many people, we can also use comprehension when we create a set. \n",
    "The basic syntax and its usage are shown below.\n",
    "\n",
    "One major difference is that we use curly braces instead of square brackets. Certainly, by design, the elements \n",
    "in a set won’t have duplicates as opposed to a list where duplicates are allowed.\n",
    "\n",
    "Please note that we can also use a conditional statement in a set comprehension."
   ]
  },
  {
   "cell_type": "code",
   "execution_count": 125,
   "metadata": {},
   "outputs": [
    {
     "data": {
      "text/plain": [
       "{8, 10, 12, 34, 70, 90}"
      ]
     },
     "execution_count": 125,
     "metadata": {},
     "output_type": "execute_result"
    }
   ],
   "source": [
    "# syntax for set comprehension\n",
    "#{expression for item in iterable}\n",
    "numbers = (1, 34, 5, 8, 10, 12, 3, 90, 70, 70, 90)\n",
    "unique_even_numbers = {number for number in numbers if number%2 == 0}\n",
    "unique_even_numbers"
   ]
  },
  {
   "cell_type": "markdown",
   "metadata": {},
   "source": [
    "9. Dict Comprehension"
   ]
  },
  {
   "cell_type": "markdown",
   "metadata": {},
   "source": [
    "We have list and set comprehensions, and you won’t be surprised to learn that Python also has dict comprehension. \n",
    "The basic syntax and its usage are shown in the following code snippet."
   ]
  },
  {
   "cell_type": "code",
   "execution_count": 126,
   "metadata": {},
   "outputs": [
    {
     "data": {
      "text/plain": [
       "{'python': 6, 'is': 2, 'a': 1, 'big': 3, 'snake': 5}"
      ]
     },
     "execution_count": 126,
     "metadata": {},
     "output_type": "execute_result"
    }
   ],
   "source": [
    "# syntax for dict comprehension\n",
    "#{key_expression : value_expression for item in iterable}\n",
    "words = ('python', 'is', 'a', 'big', 'snake')\n",
    "len_words = {word : len(word) for word in words}\n",
    "len_words"
   ]
  },
  {
   "cell_type": "code",
   "execution_count": 127,
   "metadata": {},
   "outputs": [
    {
     "data": {
      "text/plain": [
       "{'python': 6}"
      ]
     },
     "execution_count": 127,
     "metadata": {},
     "output_type": "execute_result"
    }
   ],
   "source": [
    "len_words_p = {word : len(word) for word in words if word.startswith('p')}\n",
    "len_words_p"
   ]
  }
 ],
 "metadata": {
  "kernelspec": {
   "display_name": "Python 3",
   "language": "python",
   "name": "python3"
  },
  "language_info": {
   "codemirror_mode": {
    "name": "ipython",
    "version": 3
   },
   "file_extension": ".py",
   "mimetype": "text/x-python",
   "name": "python",
   "nbconvert_exporter": "python",
   "pygments_lexer": "ipython3",
   "version": "3.8.2"
  }
 },
 "nbformat": 4,
 "nbformat_minor": 4
}
